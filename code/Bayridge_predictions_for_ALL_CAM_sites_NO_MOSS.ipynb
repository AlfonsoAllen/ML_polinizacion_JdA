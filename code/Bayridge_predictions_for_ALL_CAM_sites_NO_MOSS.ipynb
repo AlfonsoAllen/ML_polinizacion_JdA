{
 "cells": [
  {
   "cell_type": "code",
   "execution_count": 1,
   "id": "c6e26205",
   "metadata": {},
   "outputs": [],
   "source": [
    "import pandas as pd\n",
    "import pickle"
   ]
  },
  {
   "cell_type": "code",
   "execution_count": 2,
   "id": "1a7182a3",
   "metadata": {},
   "outputs": [],
   "source": [
    "# Extract ml info\n",
    "df_extra_features_train_raw = pd.read_csv('../data/ml_train.csv')\n",
    "df_extra_features_test_raw = pd.read_csv('../data/ml_test.csv')"
   ]
  },
  {
   "cell_type": "code",
   "execution_count": 3,
   "id": "a538e55c",
   "metadata": {},
   "outputs": [],
   "source": [
    "df_extra_features_test_raw = pd.read_csv('../data/ml_test.csv')# select those columns that Angel used to fit the ML models\n",
    "selected_columns = ['study_id','site_id','log_visit_rate','bio01','bio02','bio05','bio08','bio14','ec','elevation','es','gHM','pdsi','soil_den_b10','shrub','management','x0_1.0','x0_2.0','x0_4.0','x0_5.0','x0_7.0','x0_8.0','x0_10.0','x0_12.0']\n",
    "\n",
    "df_ML_train = df_extra_features_train_raw[selected_columns]\n",
    "df_ML_test = df_extra_features_test_raw[selected_columns]\n",
    "\n",
    "# Note: it seems that these partitions are different from those used to calibrate DI-ML\n",
    "# df_train.shape : (790, 25)\n",
    "# df_test.shape : (217, 25)\n",
    "\n",
    "df_ML_extra_features_info = pd.concat([df_ML_train, df_ML_test], ignore_index=True)"
   ]
  },
  {
   "cell_type": "code",
   "execution_count": null,
   "id": "a6cde1be",
   "metadata": {},
   "outputs": [],
   "source": []
  },
  {
   "cell_type": "code",
   "execution_count": 4,
   "id": "d76a6f14",
   "metadata": {},
   "outputs": [
    {
     "name": "stdout",
     "output_type": "stream",
     "text": [
      "0\n",
      "0\n"
     ]
    }
   ],
   "source": [
    "# sanity check\n",
    "rows_with_na = df_ML_train.isna().any(axis=1)\n",
    "number_rows_with_na = rows_with_na.sum()\n",
    "print(number_rows_with_na) # 27 in the training set\n",
    "\n",
    "# sanity check\n",
    "rows_with_na = df_ML_test.isna().any(axis=1)\n",
    "number_rows_with_na = rows_with_na.sum()\n",
    "print(number_rows_with_na) # 20 in the test set"
   ]
  },
  {
   "cell_type": "code",
   "execution_count": 5,
   "id": "593b8807",
   "metadata": {},
   "outputs": [],
   "source": [
    "# Drop NAs from dataframes\n",
    "df_ML_train_without_na = df_ML_train.dropna()\n",
    "df_ML_test_without_na = df_ML_test.dropna()"
   ]
  },
  {
   "cell_type": "code",
   "execution_count": null,
   "id": "a98b23a4",
   "metadata": {},
   "outputs": [],
   "source": []
  },
  {
   "cell_type": "code",
   "execution_count": 6,
   "id": "57dec36d",
   "metadata": {},
   "outputs": [],
   "source": [
    "# Create an iterator for cross validation\n",
    "df_folds = pd.read_csv('../data/CV_folds.csv')\n",
    "df_ML_train_studyid_series = df_ML_train_without_na['study_id']\n",
    "df_ML_train_studyid = df_ML_train_studyid_series.to_frame(name='study_id')\n",
    "df_ML_train_folds = df_ML_train_studyid.merge(df_folds, on=['study_id'], how='left')\n",
    "\n",
    "myCViterator = []\n",
    "for i in range(0,5):\n",
    "    trainIndices = df_ML_train_folds[df_ML_train_folds['fold'] != i].index.values.astype(int)\n",
    "    testIndices = df_ML_train_folds[df_ML_train_folds['fold'] == i].index.values.astype(int)\n",
    "    myCViterator.append((trainIndices, testIndices))\n",
    "\n",
    "# Save iterator    \n",
    "with open('../data/myCViterator_PREVENT.pkl', 'wb') as f:\n",
    "    pickle.dump(myCViterator, f)\n"
   ]
  },
  {
   "cell_type": "code",
   "execution_count": 7,
   "id": "4e2a36d7",
   "metadata": {},
   "outputs": [],
   "source": [
    "# Import our cv iterator (K-Folds)\n",
    "with open('../data/myCViterator.pkl', 'rb') as file:\n",
    "        myCViterator = pickle.load(file)"
   ]
  },
  {
   "cell_type": "code",
   "execution_count": null,
   "id": "9c5deaa4",
   "metadata": {},
   "outputs": [],
   "source": []
  },
  {
   "cell_type": "code",
   "execution_count": 8,
   "id": "bb6fc03e",
   "metadata": {},
   "outputs": [],
   "source": [
    "import numpy as np\n",
    "from sklearn.linear_model import BayesianRidge\n",
    "from sklearn.datasets import make_regression\n",
    "from sklearn.model_selection import train_test_split, RandomizedSearchCV, GridSearchCV, KFold\n",
    "from sklearn.metrics import mean_squared_error, r2_score, mean_absolute_error\n",
    "from scipy.stats import spearmanr, uniform\n",
    "\n",
    "X_columns = ['bio01','bio02','bio05','bio08','bio14','ec','elevation','es','gHM','pdsi','soil_den_b10','shrub','management','x0_1.0','x0_2.0','x0_4.0','x0_5.0','x0_7.0','x0_8.0','x0_10.0','x0_12.0']\n",
    "y_columns = ['log_visit_rate']\n",
    "\n",
    "\n",
    "X_train = df_ML_train_without_na[X_columns]\n",
    "X_test = df_ML_test_without_na[X_columns]\n",
    "\n",
    "y_train = df_ML_train_without_na[y_columns]\n",
    "y_test = df_ML_test_without_na[y_columns]"
   ]
  },
  {
   "cell_type": "code",
   "execution_count": 9,
   "id": "e961d598",
   "metadata": {},
   "outputs": [
    {
     "name": "stdout",
     "output_type": "stream",
     "text": [
      "Fitting 5 folds for each of 10000 candidates, totalling 50000 fits\n"
     ]
    },
    {
     "name": "stderr",
     "output_type": "stream",
     "text": [
      "C:\\Users\\alfon\\anaconda3\\Lib\\site-packages\\sklearn\\linear_model\\_bayes.py:53: FutureWarning: 'n_iter' was renamed to 'max_iter' in version 1.3 and will be removed in 1.5\n",
      "  warnings.warn(\n",
      "C:\\Users\\alfon\\anaconda3\\Lib\\site-packages\\sklearn\\utils\\validation.py:1184: DataConversionWarning: A column-vector y was passed when a 1d array was expected. Please change the shape of y to (n_samples, ), for example using ravel().\n",
      "  y = column_or_1d(y, warn=True)\n"
     ]
    }
   ],
   "source": [
    "# Model definition\n",
    "model_bayesian_ridge = BayesianRidge(n_iter=10000)\n",
    "\n",
    "# Definir la cuadrícula de hiperparámetros a explorar\n",
    "param_grid = {\n",
    "    'alpha_1': uniform(loc=0, scale=0.5),\n",
    "    'alpha_2': uniform(loc=0, scale=0.5),\n",
    "    'lambda_1': uniform(loc=0, scale=0.5),\n",
    "    'lambda_2': uniform(loc=0, scale=0.5),\n",
    "    'fit_intercept': [False, True]\n",
    "}\n",
    "\n",
    "# Cross validation strategy (here we use K-Fold)\n",
    "cv = KFold(n_splits = 5, shuffle = True, random_state = 42)\n",
    "\n",
    "# Random search of best hyperparameter combinations\n",
    "grid_search = RandomizedSearchCV(model_bayesian_ridge, param_distributions = param_grid, cv = myCViterator,\n",
    "                            scoring = 'neg_mean_absolute_error', n_iter = 10000,\n",
    "                            verbose = 2, random_state = 135, n_jobs = 3)\n",
    "\n",
    "grid_search.fit(X_train, y_train)\n",
    "\n",
    "# best hyperparameter combination\n",
    "best_hyperparameters = grid_search.best_params_\n",
    "\n",
    "# best model\n",
    "best_model = grid_search.best_estimator_\n"
   ]
  },
  {
   "cell_type": "code",
   "execution_count": 10,
   "id": "6a3649d4",
   "metadata": {},
   "outputs": [
    {
     "data": {
      "text/html": [
       "<style>#sk-container-id-1 {color: black;}#sk-container-id-1 pre{padding: 0;}#sk-container-id-1 div.sk-toggleable {background-color: white;}#sk-container-id-1 label.sk-toggleable__label {cursor: pointer;display: block;width: 100%;margin-bottom: 0;padding: 0.3em;box-sizing: border-box;text-align: center;}#sk-container-id-1 label.sk-toggleable__label-arrow:before {content: \"▸\";float: left;margin-right: 0.25em;color: #696969;}#sk-container-id-1 label.sk-toggleable__label-arrow:hover:before {color: black;}#sk-container-id-1 div.sk-estimator:hover label.sk-toggleable__label-arrow:before {color: black;}#sk-container-id-1 div.sk-toggleable__content {max-height: 0;max-width: 0;overflow: hidden;text-align: left;background-color: #f0f8ff;}#sk-container-id-1 div.sk-toggleable__content pre {margin: 0.2em;color: black;border-radius: 0.25em;background-color: #f0f8ff;}#sk-container-id-1 input.sk-toggleable__control:checked~div.sk-toggleable__content {max-height: 200px;max-width: 100%;overflow: auto;}#sk-container-id-1 input.sk-toggleable__control:checked~label.sk-toggleable__label-arrow:before {content: \"▾\";}#sk-container-id-1 div.sk-estimator input.sk-toggleable__control:checked~label.sk-toggleable__label {background-color: #d4ebff;}#sk-container-id-1 div.sk-label input.sk-toggleable__control:checked~label.sk-toggleable__label {background-color: #d4ebff;}#sk-container-id-1 input.sk-hidden--visually {border: 0;clip: rect(1px 1px 1px 1px);clip: rect(1px, 1px, 1px, 1px);height: 1px;margin: -1px;overflow: hidden;padding: 0;position: absolute;width: 1px;}#sk-container-id-1 div.sk-estimator {font-family: monospace;background-color: #f0f8ff;border: 1px dotted black;border-radius: 0.25em;box-sizing: border-box;margin-bottom: 0.5em;}#sk-container-id-1 div.sk-estimator:hover {background-color: #d4ebff;}#sk-container-id-1 div.sk-parallel-item::after {content: \"\";width: 100%;border-bottom: 1px solid gray;flex-grow: 1;}#sk-container-id-1 div.sk-label:hover label.sk-toggleable__label {background-color: #d4ebff;}#sk-container-id-1 div.sk-serial::before {content: \"\";position: absolute;border-left: 1px solid gray;box-sizing: border-box;top: 0;bottom: 0;left: 50%;z-index: 0;}#sk-container-id-1 div.sk-serial {display: flex;flex-direction: column;align-items: center;background-color: white;padding-right: 0.2em;padding-left: 0.2em;position: relative;}#sk-container-id-1 div.sk-item {position: relative;z-index: 1;}#sk-container-id-1 div.sk-parallel {display: flex;align-items: stretch;justify-content: center;background-color: white;position: relative;}#sk-container-id-1 div.sk-item::before, #sk-container-id-1 div.sk-parallel-item::before {content: \"\";position: absolute;border-left: 1px solid gray;box-sizing: border-box;top: 0;bottom: 0;left: 50%;z-index: -1;}#sk-container-id-1 div.sk-parallel-item {display: flex;flex-direction: column;z-index: 1;position: relative;background-color: white;}#sk-container-id-1 div.sk-parallel-item:first-child::after {align-self: flex-end;width: 50%;}#sk-container-id-1 div.sk-parallel-item:last-child::after {align-self: flex-start;width: 50%;}#sk-container-id-1 div.sk-parallel-item:only-child::after {width: 0;}#sk-container-id-1 div.sk-dashed-wrapped {border: 1px dashed gray;margin: 0 0.4em 0.5em 0.4em;box-sizing: border-box;padding-bottom: 0.4em;background-color: white;}#sk-container-id-1 div.sk-label label {font-family: monospace;font-weight: bold;display: inline-block;line-height: 1.2em;}#sk-container-id-1 div.sk-label-container {text-align: center;}#sk-container-id-1 div.sk-container {/* jupyter's `normalize.less` sets `[hidden] { display: none; }` but bootstrap.min.css set `[hidden] { display: none !important; }` so we also need the `!important` here to be able to override the default hidden behavior on the sphinx rendered scikit-learn.org. See: https://github.com/scikit-learn/scikit-learn/issues/21755 */display: inline-block !important;position: relative;}#sk-container-id-1 div.sk-text-repr-fallback {display: none;}</style><div id=\"sk-container-id-1\" class=\"sk-top-container\"><div class=\"sk-text-repr-fallback\"><pre>BayesianRidge(alpha_1=0.416319724711894, alpha_2=0.3273992641022507,\n",
       "              lambda_1=0.49062237462945235, lambda_2=0.0030755717318939335,\n",
       "              n_iter=10000)</pre><b>In a Jupyter environment, please rerun this cell to show the HTML representation or trust the notebook. <br />On GitHub, the HTML representation is unable to render, please try loading this page with nbviewer.org.</b></div><div class=\"sk-container\" hidden><div class=\"sk-item\"><div class=\"sk-estimator sk-toggleable\"><input class=\"sk-toggleable__control sk-hidden--visually\" id=\"sk-estimator-id-1\" type=\"checkbox\" checked><label for=\"sk-estimator-id-1\" class=\"sk-toggleable__label sk-toggleable__label-arrow\">BayesianRidge</label><div class=\"sk-toggleable__content\"><pre>BayesianRidge(alpha_1=0.416319724711894, alpha_2=0.3273992641022507,\n",
       "              lambda_1=0.49062237462945235, lambda_2=0.0030755717318939335,\n",
       "              n_iter=10000)</pre></div></div></div></div></div>"
      ],
      "text/plain": [
       "BayesianRidge(alpha_1=0.416319724711894, alpha_2=0.3273992641022507,\n",
       "              lambda_1=0.49062237462945235, lambda_2=0.0030755717318939335,\n",
       "              n_iter=10000)"
      ]
     },
     "execution_count": 10,
     "metadata": {},
     "output_type": "execute_result"
    }
   ],
   "source": [
    "best_model"
   ]
  },
  {
   "cell_type": "code",
   "execution_count": 11,
   "id": "eea5d05b",
   "metadata": {},
   "outputs": [
    {
     "name": "stdout",
     "output_type": "stream",
     "text": [
      "Mean square error (MSE, NO moss): 1.777798067369368\n",
      "Root mean square error (RMSE, NO moss): 1.3333409419084707\n",
      "Mean absolute error (MAE, NO moss): 1.070850001231052\n",
      "R-squared, NO moss: 0.2837337940624174\n",
      "Spearman-rho, NO moss: 0.5527927596862527 (pvalor: 9.175240518865734e-19 )\n"
     ]
    }
   ],
   "source": [
    "# make predictions\n",
    "y_pred = best_model.predict(X_test)\n",
    "\n",
    "# Evaluation of our best model\n",
    "mae = mean_absolute_error(y_test, y_pred)\n",
    "mse = mean_squared_error(y_test, y_pred)\n",
    "rmse = np.sqrt(mse)\n",
    "r2 = r2_score(y_test, y_pred)\n",
    "\n",
    "# Estimate spearman rho\n",
    "coef_spearman, p_valor_spearman = spearmanr(y_test, y_pred)\n",
    "\n",
    "# Best model results\n",
    "# print(\"Model coefficients:\", best_model_CNN.coef_)\n",
    "# print(\"Intercept:\", best_model_CNN.intercept_)\n",
    "print(\"Mean square error (MSE, NO moss):\", mse)\n",
    "print(\"Root mean square error (RMSE, NO moss):\", rmse)\n",
    "print(\"Mean absolute error (MAE, NO moss):\", mae)\n",
    "print(\"R-squared, NO moss:\", r2)\n",
    "print(\"Spearman-rho, NO moss:\", coef_spearman,\"(pvalor:\",p_valor_spearman,\")\")\n"
   ]
  },
  {
   "cell_type": "code",
   "execution_count": 12,
   "id": "2049561b",
   "metadata": {},
   "outputs": [
    {
     "data": {
      "image/png": "[encoded data removed]",
      "text/plain": [
       "<Figure size 640x480 with 1 Axes>"
      ]
     },
     "metadata": {},
     "output_type": "display_data"
    }
   ],
   "source": [
    "import matplotlib.pyplot as plt\n",
    "import numpy as np\n",
    "\n",
    "y_true = y_test.to_numpy()\n",
    "y_true_array = y_true.flatten()\n",
    "# fit a regression line with numpy\n",
    "coef = np.polyfit(y_true_array, y_pred, 1)\n",
    "poly1d_fn = np.poly1d(coef)\n",
    "\n",
    "# create a scatter plot with regression line\n",
    "plt.scatter(y_true_array, y_pred, label='Data')\n",
    "plt.plot(y_true_array, poly1d_fn(y_true_array), color = 'red', label = 'Linear regression')\n",
    "plt.plot(sorted(y_true_array), sorted(y_true_array), color = 'blue', linestyle = '--', label = 'Expected trend')\n",
    "\n",
    "# Add labels\n",
    "plt.xlabel('Observed visitation rate')\n",
    "plt.ylabel('Predicted visitation rate')\n",
    "plt.title('Results for BayRidge regressor (without \"moss\") at global scale')\n",
    "\n",
    "# show legend\n",
    "plt.legend()\n",
    "\n",
    "# show plot\n",
    "plt.show()"
   ]
  },
  {
   "cell_type": "code",
   "execution_count": 13,
   "id": "1517b556",
   "metadata": {},
   "outputs": [
    {
     "name": "stdout",
     "output_type": "stream",
     "text": [
      "bio02: VIP = 10.901644204268846\n",
      "x0_8.0: VIP = 8.38799985833351\n",
      "management: VIP = 8.237906029375923\n",
      "elevation: VIP = 8.076946063559804\n",
      "bio01: VIP = 6.985675952881308\n",
      "x0_4.0: VIP = 6.385388704027312\n",
      "gHM: VIP = 5.304234569293904\n",
      "bio05: VIP = 5.272457628542598\n",
      "x0_7.0: VIP = 5.231757436033301\n",
      "shrub: VIP = 4.772652182879163\n",
      "x0_2.0: VIP = 4.381534243431066\n",
      "soil_den_b10: VIP = 3.1324326868949055\n",
      "es: VIP = 2.8985055157505015\n",
      "bio08: VIP = 2.7639671867972044\n",
      "ec: VIP = 2.7356252034405677\n",
      "x0_1.0: VIP = 2.418763970090744\n",
      "x0_10.0: VIP = 2.225861465160529\n",
      "x0_5.0: VIP = 2.1777804276908976\n",
      "x0_12.0: VIP = 1.3144570458563114\n",
      "pdsi: VIP = 0.6308083046328196\n",
      "bio14: VIP = 0.5192400648269694\n"
     ]
    },
    {
     "data": {
      "image/png": "[encoded data removed]",
      "text/plain": [
       "<Figure size 1000x600 with 1 Axes>"
      ]
     },
     "metadata": {},
     "output_type": "display_data"
    }
   ],
   "source": [
    "# Get coef. from the best model estimated\n",
    "coeficients = best_model.coef_\n",
    "\n",
    "# Get variance from the estimated coeficients\n",
    "variance_coefs = np.var(coeficients)\n",
    "\n",
    "# Estimate VIP for each variable\n",
    "VIP = np.abs(coeficients) / variance_coefs\n",
    "\n",
    "# Sort VIP\n",
    "sorted_indices = np.argsort(VIP)[::-1]  # Sort from larger to smaller VIP\n",
    "sorted_VIP = VIP[sorted_indices]\n",
    "\n",
    "# Print VIP\n",
    "for i, idx in enumerate(sorted_indices):\n",
    "    print(f\"{X_columns[idx]}: VIP = {sorted_VIP[i]}\")\n",
    "    \n",
    "plt.figure(figsize=(10, 6))\n",
    "plt.barh(range(len(sorted_indices)), sorted_VIP, align='center')\n",
    "plt.yticks(range(len(sorted_indices)), [X_columns[i] for i in sorted_indices])\n",
    "plt.xlabel('VIP (Variable Importance Plot)')\n",
    "plt.ylabel('Variable')\n",
    "plt.title('Variable Importance Plot for the Bayesian Ridge Regression model')\n",
    "plt.gca().invert_yaxis()  # Invertir el eje y para que las variables más importantes estén arriba\n",
    "plt.show()"
   ]
  },
  {
   "cell_type": "code",
   "execution_count": 14,
   "id": "ebaee618",
   "metadata": {},
   "outputs": [],
   "source": [
    "df_JdA = pd.read_csv('../data/Features3.csv')\n",
    "\n",
    "# Add biome information\n",
    "df_JdA['x0_1.0'] = 0.0\n",
    "df_JdA['x0_2.0'] = 0.0\n",
    "df_JdA['x0_4.0'] = 0.0\n",
    "df_JdA['x0_5.0'] = 0.0\n",
    "df_JdA['x0_7.0'] = 0.0\n",
    "df_JdA['x0_8.0'] = 0.0\n",
    "df_JdA['x0_10.0'] = 0.0\n",
    "df_JdA['x0_12.0'] = 0.0\n",
    "\n",
    "# Actualizar las celdas de la columna 'x' a 1 si 'biome_num' es igual a 1\n",
    "df_JdA['x0_1.0'] = df_JdA['biome_num'].apply(lambda x: 1 if x == 1 else 0)\n",
    "df_JdA['x0_2.0'] = df_JdA['biome_num'].apply(lambda x: 1 if x == 2 else 0)\n",
    "df_JdA['x0_4.0'] = df_JdA['biome_num'].apply(lambda x: 1 if x == 4 else 0)\n",
    "df_JdA['x0_5.0'] = df_JdA['biome_num'].apply(lambda x: 1 if x == 5 else 0)\n",
    "df_JdA['x0_7.0'] = df_JdA['biome_num'].apply(lambda x: 1 if x == 7 else 0)\n",
    "df_JdA['x0_8.0'] = df_JdA['biome_num'].apply(lambda x: 1 if x == 8 else 0)\n",
    "df_JdA['x0_10.0'] = df_JdA['biome_num'].apply(lambda x: 1 if x == 10 else 0)\n",
    "df_JdA['x0_12.0'] = df_JdA['biome_num'].apply(lambda x: 1 if x == 12 else 0)\n",
    "\n",
    "df_JdA['moss'] = 0.5*(df_JdA['moss_large'] + df_JdA['moss_small'])\n",
    "df_JdA['shrub'] =  0.5*(df_JdA['shrub_large'] + df_JdA['shrub_small'])\n",
    "df_JdA['management'] = 0.0\n",
    "\n",
    "# Set units in international system (correct scale from GEE)\n",
    "# scale_bio     = 0.1  # units ºC or mm\n",
    "# scale_soilC   = 5    # units g/kg\n",
    "# scale_soilden = 10   # kg/m3\n",
    "# scale_pdsi    = 0.01 # unitless (Palmer Drought Severity Index)\n",
    "# df_JdA['bio01'] = df_JdA['bio01'] * scale_bio\n",
    "# df_JdA['bio02'] = df_JdA['bio02'] * scale_bio\n",
    "# df_JdA['bio05'] = df_JdA['bio05'] * scale_bio\n",
    "# df_JdA['bio08'] = df_JdA['bio08'] * scale_bio\n",
    "# df_JdA['bio14'] = df_JdA['bio14'] * scale_bio\n",
    "# df_JdA['soil_carbon_b10'] = df_JdA['soil_carbon_b10'] * scale_soilC\n",
    "# df_JdA['soil_den_b10']    = df_JdA['soil_den_b10']    * scale_soilden\n",
    "# df_JdA['pdsi']            = df_JdA['pdsi']            * scale_pdsi"
   ]
  },
  {
   "cell_type": "code",
   "execution_count": 15,
   "id": "f2f04e98",
   "metadata": {},
   "outputs": [
    {
     "name": "stderr",
     "output_type": "stream",
     "text": [
      "C:\\Users\\alfon\\AppData\\Local\\Temp\\ipykernel_5768\\3090408346.py:8: SettingWithCopyWarning: \n",
      "A value is trying to be set on a copy of a slice from a DataFrame.\n",
      "Try using .loc[row_indexer,col_indexer] = value instead\n",
      "\n",
      "See the caveats in the documentation: https://pandas.pydata.org/pandas-docs/stable/user_guide/indexing.html#returning-a-view-versus-a-copy\n",
      "  df_JdA_train[columnas_a_rellenar] = df_JdA_train[columnas_a_rellenar].apply(lambda col: col.fillna(col.mean()))\n"
     ]
    }
   ],
   "source": [
    "selected_columns_JdA = ['study_id','site_id','.geo','bio01','bio02','bio05','bio08','bio14','ec','elevation','es','gHM','pdsi','soil_den_b10','shrub','management','x0_1.0','x0_2.0','x0_4.0','x0_5.0','x0_7.0','x0_8.0','x0_10.0','x0_12.0']\n",
    "df_JdA_train = df_JdA[selected_columns_JdA]\n",
    "\n",
    "# Lista de columnas en las que quieres rellenar los valores faltantes\n",
    "columnas_a_rellenar = ['bio01','bio02','bio05','bio08','bio14','ec','elevation','es','gHM','pdsi','soil_den_b10','shrub']\n",
    "\n",
    "# Rellenar los valores faltantes solo en las columnas especificadas\n",
    "df_JdA_train[columnas_a_rellenar] = df_JdA_train[columnas_a_rellenar].apply(lambda col: col.fillna(col.mean()))\n",
    "\n",
    "\n",
    "df_JdA_train_NO_NA = df_JdA_train.dropna()"
   ]
  },
  {
   "cell_type": "code",
   "execution_count": null,
   "id": "0028cf7f",
   "metadata": {},
   "outputs": [],
   "source": []
  },
  {
   "cell_type": "code",
   "execution_count": 16,
   "id": "bf78125f",
   "metadata": {},
   "outputs": [
    {
     "name": "stdout",
     "output_type": "stream",
     "text": [
      "Filas con valores nulos:\n",
      "Empty DataFrame\n",
      "Columns: [study_id, site_id, .geo, bio01, bio02, bio05, bio08, bio14, ec, elevation, es, gHM, pdsi, soil_den_b10, shrub, management, x0_1.0, x0_2.0, x0_4.0, x0_5.0, x0_7.0, x0_8.0, x0_10.0, x0_12.0]\n",
      "Index: []\n",
      "\n",
      "[0 rows x 24 columns]\n"
     ]
    }
   ],
   "source": [
    "# Filtrar las filas con al menos un valor nulo\n",
    "filas_con_nulos = df_JdA_train[df_JdA_train.isna().any(axis=1)]\n",
    "\n",
    "# Imprimir las filas con valores nulos\n",
    "print(\"Filas con valores nulos:\")\n",
    "print(filas_con_nulos)"
   ]
  },
  {
   "cell_type": "code",
   "execution_count": null,
   "id": "ad9db99e",
   "metadata": {},
   "outputs": [],
   "source": []
  },
  {
   "cell_type": "code",
   "execution_count": 17,
   "id": "a5ef8534",
   "metadata": {},
   "outputs": [],
   "source": [
    "from sklearn.preprocessing import StandardScaler\n",
    "# Seleccionar las columnas por nombre\n",
    "columnas_a_escalar = ['bio01','bio02','bio05','bio08','bio14','ec','elevation','es','gHM','pdsi','soil_den_b10','shrub']\n",
    "\n",
    "# Crear una instancia de StandardScaler\n",
    "scaler = StandardScaler()\n",
    "\n",
    "# Hay que escalar con las medias y desviaciones estandard de los datos de entrenamiento de CropPol:\n",
    "df_croppol_train_raw = pd.read_csv('../data/ml_global.csv')\n",
    "\n",
    "# Crear una clave compuesta en ambos dataframes\n",
    "df_croppol_train_raw['key'] = df_croppol_train_raw['study_id'].astype(str) + '-' + df_croppol_train_raw['site_id'].astype(str)\n",
    "df_ML_train_without_na['key'] = df_ML_train_without_na['study_id'].astype(str) + '-' + df_ML_train_without_na['site_id'].astype(str)\n",
    "\n",
    "# Filtrar df2 basándose en las claves de df1\n",
    "df_croppol_train = df_croppol_train_raw[df_croppol_train_raw['key'].isin(df_ML_train_without_na['key'])]\n",
    "\n",
    "medias = df_croppol_train[columnas_a_escalar].mean()\n",
    "desviaciones = df_croppol_train[columnas_a_escalar].std()\n",
    "\n",
    "# Ahora escala las columnas en df2 usando las medias y desviaciones de df1\n",
    "for columna in columnas_a_escalar:\n",
    "\n",
    "    df_JdA_train_NO_NA[columna] = (df_JdA_train_NO_NA[columna] - medias[columna]) / desviaciones[columna]\n",
    "\n",
    "# # Escalar las columnas seleccionadas\n",
    "# df_JdA_train_NO_NA.loc[:, columnas_a_escalar] = scaler.fit_transform(df_JdA_train_NO_NA.loc[:, columnas_a_escalar])"
   ]
  },
  {
   "cell_type": "code",
   "execution_count": null,
   "id": "82636532",
   "metadata": {},
   "outputs": [],
   "source": []
  },
  {
   "cell_type": "code",
   "execution_count": 18,
   "id": "4e8ea47d",
   "metadata": {},
   "outputs": [],
   "source": [
    "# make predictions\n",
    "X_test_JdA = df_JdA_train_NO_NA[X_columns]\n",
    "df_JdA_train_NO_NA['BayRidge'] = best_model.predict(X_test_JdA)"
   ]
  },
  {
   "cell_type": "code",
   "execution_count": 19,
   "id": "d4b3ac30",
   "metadata": {},
   "outputs": [
    {
     "name": "stdout",
     "output_type": "stream",
     "text": [
      "[-2.92042052 -2.61941062 -3.01643854 ... -2.7315568  -2.89903612\n",
      " -2.86485403]\n"
     ]
    }
   ],
   "source": [
    "print(best_model.predict(X_test_JdA))"
   ]
  },
  {
   "cell_type": "code",
   "execution_count": null,
   "id": "a93e1a36",
   "metadata": {},
   "outputs": [],
   "source": []
  },
  {
   "cell_type": "code",
   "execution_count": 20,
   "id": "ba08b503",
   "metadata": {},
   "outputs": [],
   "source": [
    "import json\n",
    "# Convierte la cadena JSON en un diccionario\n",
    "df_JdA_train_NO_NA['.geo'] = df_JdA_train_NO_NA['.geo'].apply(lambda x: json.loads(x))\n",
    "\n",
    "# Separa las coordenadas en columnas de latitud y longitud\n",
    "df_JdA_train_NO_NA[['Longitud', 'Latitud']] = df_JdA_train_NO_NA['.geo'].apply(lambda x: pd.Series(x['coordinates']))\n",
    "\n",
    "# Elimina la columna original \".geo\"\n",
    "df_JdA_train_NO_NA.drop('.geo', axis=1, inplace=True)"
   ]
  },
  {
   "cell_type": "code",
   "execution_count": 21,
   "id": "866eb295",
   "metadata": {},
   "outputs": [],
   "source": [
    "df_JdA_train_NO_NA.to_csv('../data/Features3_pred.csv', index=False)"
   ]
  },
  {
   "cell_type": "code",
   "execution_count": 22,
   "id": "51b91af8",
   "metadata": {},
   "outputs": [
    {
     "data": {
      "text/plain": [
       "bio01           133.389873\n",
       "bio02            95.688608\n",
       "bio05           261.902532\n",
       "bio08           160.175949\n",
       "bio14            41.463291\n",
       "ec                1.194154\n",
       "elevation       435.715190\n",
       "es                0.443810\n",
       "gHM               0.515380\n",
       "pdsi            -20.729219\n",
       "soil_den_b10    128.788608\n",
       "shrub             6.483378\n",
       "dtype: float64"
      ]
     },
     "execution_count": 22,
     "metadata": {},
     "output_type": "execute_result"
    }
   ],
   "source": [
    "medias"
   ]
  },
  {
   "cell_type": "code",
   "execution_count": 23,
   "id": "5bfa77d5",
   "metadata": {},
   "outputs": [
    {
     "data": {
      "text/plain": [
       "bio01            58.437643\n",
       "bio02            22.371996\n",
       "bio05            42.661391\n",
       "bio08            66.156481\n",
       "bio14            27.612667\n",
       "ec                0.700351\n",
       "elevation       558.628511\n",
       "es                0.291493\n",
       "gHM               0.180232\n",
       "pdsi            289.181057\n",
       "soil_den_b10     14.649331\n",
       "moss              0.000249\n",
       "shrub             6.123688\n",
       "dtype: float64"
      ]
     },
     "execution_count": 23,
     "metadata": {},
     "output_type": "execute_result"
    }
   ],
   "source": [
    "desviaciones"
   ]
  }
 ],
 "metadata": {
  "kernelspec": {
   "display_name": "Python 3 (ipykernel)",
   "language": "python",
   "name": "python3"
  },
  "language_info": {
   "codemirror_mode": {
    "name": "ipython",
    "version": 3
   },
   "file_extension": ".py",
   "mimetype": "text/x-python",
   "name": "python",
   "nbconvert_exporter": "python",
   "pygments_lexer": "ipython3",
   "version": "3.11.5"
  }
 },
 "nbformat": 4,
 "nbformat_minor": 5
}
